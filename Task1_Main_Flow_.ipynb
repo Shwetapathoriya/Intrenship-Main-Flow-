{
  "nbformat": 4,
  "nbformat_minor": 0,
  "metadata": {
    "colab": {
      "provenance": [],
      "authorship_tag": "ABX9TyNWXyrr6WhgtBPw/bai6Wt/",
      "include_colab_link": true
    },
    "kernelspec": {
      "name": "python3",
      "display_name": "Python 3"
    },
    "language_info": {
      "name": "python"
    }
  },
  "cells": [
    {
      "cell_type": "markdown",
      "metadata": {
        "id": "view-in-github",
        "colab_type": "text"
      },
      "source": [
        "<a href=\"https://colab.research.google.com/github/Shwetapathoriya/Intrenship-Main-Flow-/blob/main/Task1_Main_Flow_.ipynb\" target=\"_parent\"><img src=\"https://colab.research.google.com/assets/colab-badge.svg\" alt=\"Open In Colab\"/></a>"
      ]
    },
    {
      "cell_type": "markdown",
      "source": [
        "\n",
        "\n",
        "# **Creating a List**\n",
        "\n"
      ],
      "metadata": {
        "id": "ShPzbkMlq69z"
      }
    },
    {
      "cell_type": "code",
      "source": [
        "#Creating a List\n",
        "my_list = [5,6,7,8,9,10]\n",
        "\n",
        "# adding an element to the list\n",
        "my_list.append(11)\n",
        "\n",
        "# Removing an element from the list\n",
        "my_list.remove(8)\n",
        "\n",
        "# Modifying an element from the list\n",
        "my_list[2] = 12\n",
        "\n",
        "# Inserting an element in the list\n",
        "my_list.insert(3,13) # Use _ instead of . to reference the list\n",
        "\n",
        "# Print(\"Updated list:\" ,my_list)\n",
        "print(\"Updated list:\", my_list) # Added print() to display the list"
      ],
      "metadata": {
        "colab": {
          "base_uri": "https://localhost:8080/"
        },
        "id": "HMgrGJQLjXj9",
        "outputId": "09af90cb-c978-4479-d8e2-73aeb5f10496"
      },
      "execution_count": 5,
      "outputs": [
        {
          "output_type": "stream",
          "name": "stdout",
          "text": [
            "Updated list: [5, 6, 12, 13, 9, 10, 11]\n"
          ]
        }
      ]
    },
    {
      "cell_type": "markdown",
      "source": [
        "# **Creating a Dictionary**"
      ],
      "metadata": {
        "id": "SE5zFr0ErHth"
      }
    },
    {
      "cell_type": "code",
      "source": [
        "#Creating a dictionary\n",
        "my_dict ={ 'name' : 'simba', 'age' :4, 'city' : 'Mumbai' }\n",
        "\n",
        "#adding a key-value pair to the dictionary\n",
        "my_dict['gender'] = 'male'\n",
        "\n",
        "#removing a key-value pair to the dictionary\n",
        "del my_dict['age']\n",
        "\n",
        "# modifying a value in the dictionary\n",
        "my_dict['city'] = 'pune'\n",
        "\n",
        "print(\"Updated Dictionary:\" , my_dict)"
      ],
      "metadata": {
        "colab": {
          "base_uri": "https://localhost:8080/"
        },
        "id": "m5egcASxnlVW",
        "outputId": "a9361aca-4ec1-4fbc-9dc1-71b9828c8364"
      },
      "execution_count": 11,
      "outputs": [
        {
          "output_type": "stream",
          "name": "stdout",
          "text": [
            "Updated Dictionary: {'name': 'simba', 'city': 'pune', 'gender': 'male'}\n"
          ]
        }
      ]
    },
    {
      "cell_type": "markdown",
      "source": [
        "# **Creating a Set**"
      ],
      "metadata": {
        "id": "NwXj-dUArRnn"
      }
    },
    {
      "cell_type": "code",
      "source": [
        "# Createing a set\n",
        "my_set ={5,6,7,8,9,10}\n",
        "\n",
        "#Adding\n",
        "my_set.add(11)\n",
        "\n",
        "#Removing\n",
        "my_set.remove(8)\n",
        "\n",
        "# Modifying\n",
        "my_set.discard(10)\n",
        "\n",
        "print(\"Updated Set:\", my_set)"
      ],
      "metadata": {
        "colab": {
          "base_uri": "https://localhost:8080/"
        },
        "id": "qAf0nBYwnoCF",
        "outputId": "6db9640d-0da1-461b-abb1-0ca335ff7fbf"
      },
      "execution_count": 13,
      "outputs": [
        {
          "output_type": "stream",
          "name": "stdout",
          "text": [
            "Updated Set: {5, 6, 7, 9, 11}\n"
          ]
        }
      ]
    }
  ]
}